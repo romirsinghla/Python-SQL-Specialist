{
 "cells": [
  {
   "cell_type": "markdown",
   "id": "kAB1rLSTRiur",
   "metadata": {
    "id": "kAB1rLSTRiur"
   },
   "source": [
    "# Introduction\n",
    "\n",
    "\n",
    "![Guess](https://media.giphy.com/media/uSeXREed0RSfcTseo0/giphy.gif)\n",
    "\n",
    "In this assignment, you will write a number-guessing game. In each game, the program will come up with a random whole number between 1 and 100, inclusive. The user will guess a number. If the guess is correct, the user wins! But if the guess is incorrect, the program will inform the user either that the guess is too low, or too high, depending on the case.\n",
    "\n",
    "A game might go something like this:\n",
    "\n",
    "**Program**: I’m thinking of a number from 1 to 100.\n",
    "\n",
    "**User**: Is the number 47?\n",
    "\n",
    "**Program**: 47 is larger than the number.\n",
    "\n",
    "**User**: Is the number 24?\n",
    "\n",
    "**Program**: 24 is smaller than the number.\n",
    "\n",
    "**User**: 36?\n",
    "\n",
    "**Program**: 36 is smaller than the number.\n",
    "\n",
    "**User**: 41?\n",
    "\n",
    "**Program**: 41 is larger than the number.\n",
    "\n",
    "**User**: 39?\n",
    "\n",
    "**Program**: You got the number!\n",
    "\n",
    "In this assignment, you'll use what you've learned about writing functions, while loops, and importing libraries to code up an automated \"guessing game\" that will generate a secret number and provide hints."
   ]
  },
  {
   "cell_type": "markdown",
   "id": "ZlXORoAQRiuv",
   "metadata": {
    "id": "ZlXORoAQRiuv"
   },
   "source": [
    "# Tasks\n",
    "\n",
    "There are multiple steps to complete in order to write a \"guessing game\" using code. We need to be able to:\n",
    "\n",
    "- generate a `secret` number.\n",
    "- take user `input` for guesses.\n",
    "- compare the player’s `guess` against the `secret`\n",
    "    - and either let the player make more guesses (if they’re wrong)\n",
    "    - or end the game (if they’re right).\n",
    "    \n",
    "So let’s split these steps up into separate tasks!\n",
    "\n",
    "## Task 1: Evaluate guesses\n",
    "\n",
    "![](https://media.giphy.com/media/xT5LMLcvRrCS5Nf2Lu/giphy.gif)\n",
    "\n",
    "To start, let's focus on the central part of the game: checking if the player’s `guess` is equal to, smaller than, or larger than the `secret` target number. Since we’ll do this check multiple times in each game, write a function to handle this comparison. We should also think forward a bit and use the output of the game to indicate whether or not the game is over. We can use a boolean `True` to indicate that the player has won, and a boolean `False` to indicate that the player still needs more guesses.\n",
    "\n",
    "Below, fill out the `check_answer` function that takes two arguments, the `guess` and the `secret` number, with two things that happen depending on how they compare:\n",
    "- if the guess matches the secret, `print` a message congratulating the player, and `return` a boolean `True` value.\n",
    "- if the guess is smaller than the secret, `print` a message saying the guess was too small, and `return` a boolean `False` value.\n",
    "- if the guess is larger than the secret, `print` a message saying the guess was too large, and `return` a boolean `False` value."
   ]
  },
  {
   "cell_type": "code",
   "execution_count": 1,
   "id": "MmO52xXoRiuw",
   "metadata": {
    "id": "MmO52xXoRiuw"
   },
   "outputs": [],
   "source": [
    "def check_answer(guess, secret):\n",
    "    \"\"\"\n",
    "    Check if the guess matches, is larger than, or is smaller than\n",
    "    the secret number.\n",
    "\n",
    "    \"\"\"\n",
    "    # ---------- YOUR CODE STARTS HERE ---------- #\n",
    "    if guess == secret:\n",
    "        print(\"Congratulations! You guessed the correct number.\")\n",
    "        return True\n",
    "    elif guess < secret:\n",
    "        print(\"Your guess is too small.\")\n",
    "        return False\n",
    "    else:\n",
    "        print(\"Your guess is too large.\")\n",
    "        return False\n",
    "\n"
   ]
  },
  {
   "cell_type": "markdown",
   "id": "OxtP4qbZRiux",
   "metadata": {
    "id": "OxtP4qbZRiux"
   },
   "source": [
    "Run the following cells to check that the `check_answer` function is working as expected. The outputs should correspond, in order, with:\n",
    "- a correct match\n",
    "- a guess that is too small\n",
    "- a guess that is too large\n",
    "\n",
    "For each cell, you should see an appropriate `print`ed message below the cell and a boolean value next to the `Out[#]:` line. Once you've verified your `check_answer` function, move on to the next part!"
   ]
  },
  {
   "cell_type": "code",
   "execution_count": 2,
   "id": "ByM-aFXLRiuy",
   "metadata": {
    "id": "ByM-aFXLRiuy"
   },
   "outputs": [
    {
     "name": "stdout",
     "output_type": "stream",
     "text": [
      "Congratulations! You guessed the correct number.\n"
     ]
    },
    {
     "data": {
      "text/plain": [
       "True"
      ]
     },
     "execution_count": 2,
     "metadata": {},
     "output_type": "execute_result"
    }
   ],
   "source": [
    "check_answer(42, 42) # correct match"
   ]
  },
  {
   "cell_type": "code",
   "execution_count": 3,
   "id": "tQhJRPAGRiuz",
   "metadata": {
    "id": "tQhJRPAGRiuz"
   },
   "outputs": [
    {
     "name": "stdout",
     "output_type": "stream",
     "text": [
      "Your guess is too small.\n"
     ]
    },
    {
     "data": {
      "text/plain": [
       "False"
      ]
     },
     "execution_count": 3,
     "metadata": {},
     "output_type": "execute_result"
    }
   ],
   "source": [
    "check_answer(35, 65) # too small"
   ]
  },
  {
   "cell_type": "code",
   "execution_count": 4,
   "id": "gLMQmXIuRiuz",
   "metadata": {
    "id": "gLMQmXIuRiuz"
   },
   "outputs": [
    {
     "name": "stdout",
     "output_type": "stream",
     "text": [
      "Your guess is too large.\n"
     ]
    },
    {
     "data": {
      "text/plain": [
       "False"
      ]
     },
     "execution_count": 4,
     "metadata": {},
     "output_type": "execute_result"
    }
   ],
   "source": [
    "check_answer(90, 80) # too large"
   ]
  },
  {
   "cell_type": "markdown",
   "id": "7BEythv2Riuz",
   "metadata": {
    "id": "7BEythv2Riuz"
   },
   "source": [
    "### Task 2: Generate Secret Numbers\n",
    "\n",
    "![](https://media.giphy.com/media/SEWEmCymjv8XDbsb8I/giphy.gif)\n",
    "\n",
    "Next, let's look into how to generate secret numbers.\n",
    "\n",
    "For this task, use the Python built-in library `random`, which offers a number of functions for randomly generating numbers or randomly picking elements from lists. Specifically, use the [randint](https://docs.python.org/3/library/random.html#random.randint) method to generate random integers.\n",
    "\n",
    "<span style='background-color: rgba(138, 43, 226, 0.4); padding: 0.2em 0.4em; border-radius: 4px;'>The two arguments given used are the *smallest* and *largest* numbers that the function can generate.</span>\n",
    "\n",
    "Consult the documentation or [this](https://www.w3schools.com/python/ref_random_randint.asp) example to understand how it works, then run it a few times to make sure that it works as you expect it to.\n",
    "\n",
    "One way to test it out is to use a for loop to run it a specified number of times. Make sure to import the random  library!\n",
    "\n"
   ]
  },
  {
   "cell_type": "code",
   "execution_count": 5,
   "id": "KtCtUHTERiu0",
   "metadata": {
    "id": "KtCtUHTERiu0"
   },
   "outputs": [
    {
     "name": "stdout",
     "output_type": "stream",
     "text": [
      "Secret number 1: 30\n",
      "Secret number 2: 69\n",
      "Secret number 3: 28\n",
      "Secret number 4: 9\n",
      "Secret number 5: 27\n",
      "Secret number 6: 12\n",
      "Secret number 7: 73\n",
      "Secret number 8: 8\n",
      "Secret number 9: 27\n",
      "Secret number 10: 83\n"
     ]
    }
   ],
   "source": [
    "# ---------- YOUR CODE STARTS HERE ---------- #\n",
    "\n",
    "# import library\n",
    "import random\n",
    "\n",
    "# generate random number using the random library\n",
    "for i in range(10):\n",
    "    secret = random.randint(1, 100)\n",
    "    print(f\"Secret number {i+1}: {secret}\")\n"
   ]
  },
  {
   "cell_type": "markdown",
   "id": "YCVvPtKARiu0",
   "metadata": {
    "id": "YCVvPtKARiu0"
   },
   "source": [
    "### Task 3: Loop in Player Input\n",
    "\n",
    "![](https://media.giphy.com/media/5xtDarztR1rCyfIpMDS/giphy.gif)\n",
    "\n",
    "For this task:\n",
    "- Write a `while` loop to run the guessing game while the user’s guesses are incorrect.\n",
    "- Use a boolean variable, `game_over`, to track whether or not the game is over.\n",
    "    - If it's `False`, the secret number hasn't been guessed yet.\n",
    "    - If it's `True`, the secret number has been guessed, and the loop should terminate.\n",
    "    \n",
    "Note that these `False` and `True` values match the outputs of the `check_answer()` function from Task 1. Inside the loop, we'll take a guess from the player, use `check_answer()` to compare the guess to the secret, and then decide whether the game is over or if we keep going.\n",
    "\n",
    "\n",
    "Let's outline the flow of the game in terms of the code steps:\n",
    "\n",
    "<span style='background-color: rgba(138, 43, 226, 0.4); padding: 0.2em 0.4em; border-radius: 4px;'>***Pro Tip***: Tackle each one at a time!<span>\n",
    "\n",
    "- Generate a random number from 1 to 100, store it in a variable as the `secret` number. *You can copy the line you used over from Task 2*.\n",
    "- Create a boolean variable `game_over` that will be used to check whether or not a game will continue or not. It should start with an assigned value of `False`.\n",
    "- Use a `while` loop to run the game, with the condition for looping being that `game_over` is `False`. Within the loop, take the following steps on each round:\n",
    "  - Use the `input()` function to assign a value to a `guess` variable.\n",
    "  - Since `input` values are taken as strings, we need to convert the `guess` into a number. This part has already been done for you, using a function that we've created below, `validate_guess`. (Don't forget to run the code cell to load the function!) It returns the player's input as an integer when it is valid, and a `False` value if the input isn't actually a number.\n",
    "  - If an invalid `guess` was given (i.e. it's `False`), return to the top of the loop to take a new input from the user.\n",
    "  - Check the (valid) `guess` against the `secret` number using the `check_answer()` function. Assign the output of the `check_answer()` function to the `game_over` variable so that the game either ends on a correct guess, or we go back to the start of the loop on an incorrect guess.\n",
    "\n",
    "This will be the most challenging task you've performed thus far, but stick with it and give it your best shot. If you need any assistance, be sure to reach out to the HelpHub and you can get some additional hints."
   ]
  },
  {
   "cell_type": "code",
   "execution_count": 6,
   "id": "cYO-23h7Riu1",
   "metadata": {
    "id": "cYO-23h7Riu1"
   },
   "outputs": [],
   "source": [
    "## REMEMBER TO RUN THIS CELL -- DO NOT MODIFY IT!\n",
    "\n",
    "def validate_guess(guess):\n",
    "    \"\"\"\n",
    "    Verifies that the player's guess is an integer and\n",
    "    converts it into an integer if valid.\n",
    "    \"\"\"\n",
    "\n",
    "    if guess.isnumeric():\n",
    "        return int(guess)\n",
    "    else:\n",
    "        print('You did not type a number, try again!')\n",
    "        return False"
   ]
  },
  {
   "cell_type": "code",
   "execution_count": 9,
   "id": "jj5_6B5xRiu1",
   "metadata": {
    "id": "jj5_6B5xRiu1"
   },
   "outputs": [
    {
     "name": "stdin",
     "output_type": "stream",
     "text": [
      "Enter your guess (1–100):  45\n"
     ]
    },
    {
     "name": "stdout",
     "output_type": "stream",
     "text": [
      "Your guess is too small.\n"
     ]
    },
    {
     "name": "stdin",
     "output_type": "stream",
     "text": [
      "Enter your guess (1–100):  78\n"
     ]
    },
    {
     "name": "stdout",
     "output_type": "stream",
     "text": [
      "Your guess is too small.\n"
     ]
    },
    {
     "name": "stdin",
     "output_type": "stream",
     "text": [
      "Enter your guess (1–100):  99\n"
     ]
    },
    {
     "name": "stdout",
     "output_type": "stream",
     "text": [
      "Your guess is too large.\n"
     ]
    },
    {
     "name": "stdin",
     "output_type": "stream",
     "text": [
      "Enter your guess (1–100):  90\n"
     ]
    },
    {
     "name": "stdout",
     "output_type": "stream",
     "text": [
      "Your guess is too large.\n"
     ]
    },
    {
     "name": "stdin",
     "output_type": "stream",
     "text": [
      "Enter your guess (1–100):  80\n"
     ]
    },
    {
     "name": "stdout",
     "output_type": "stream",
     "text": [
      "Your guess is too large.\n"
     ]
    },
    {
     "name": "stdin",
     "output_type": "stream",
     "text": [
      "Enter your guess (1–100):  79\n"
     ]
    },
    {
     "name": "stdout",
     "output_type": "stream",
     "text": [
      "Congratulations! You guessed the correct number.\n"
     ]
    }
   ],
   "source": [
    "# ---------- YOUR CODE STARTS HERE ---------- #\n",
    "\n",
    "# generate a secret number\n",
    "guess = random.randint(1, 100)\n",
    "\n",
    "# run the game loop\n",
    "game_over = False\n",
    "while not game_over:\n",
    "    # take a guess from the player\n",
    "    # Write your code below\n",
    "    guess = input(\"Enter your guess (1–100): \")\n",
    "\n",
    "    # DO NOT MODIFY THIS SECTION ---#\n",
    "    # checks if guess is valid\n",
    "    if validate_guess(guess):\n",
    "        guess = validate_guess(guess)\n",
    "    # otherwise repeats loop\n",
    "    else:\n",
    "        continue\n",
    "    #-- CONTINUE YOUR CODE BELOW ---#\n",
    "    game_over = check_answer(guess, secret)\n",
    "\n",
    "    # check the guess against the secret\n",
    "    # and update game_over"
   ]
  },
  {
   "cell_type": "markdown",
   "id": "E__KawaTRiu1",
   "metadata": {
    "id": "E__KawaTRiu1"
   },
   "source": [
    "## Task 4\n",
    "\n",
    "Whew, congrats on completing the game! You've really come a long way in just a short time. Now that you've got the basic functionality, you might consider adding some polish to your game. Here are some features you can include:\n",
    "\n",
    "- Wrap the game code inside a function, `guess_the_number()`, so you can execute the function to play the game, and not an entire code cell. The function shouldn't need any parameters. To start, you can copy your code from the previous cell into the function below -- make sure all of the indentation is correctly aligned!\n",
    "\n",
    "- Add a variable to track the number of guesses made by the player. When they win, print an additional ending message to tell the player how many guesses they took."
   ]
  },
  {
   "cell_type": "code",
   "execution_count": 10,
   "id": "mWlYN0e-Riu2",
   "metadata": {
    "id": "mWlYN0e-Riu2"
   },
   "outputs": [],
   "source": [
    "# define your function here\n",
    "import random\n",
    "\n",
    "def validate_guess(guess):\n",
    "    if guess.isnumeric():\n",
    "        return int(guess)\n",
    "    else:\n",
    "        print('You did not type a number, try again!')\n",
    "        return False\n",
    "\n",
    "def check_answer(guess, secret):\n",
    "    if guess == secret:\n",
    "        print(\"Congratulations! You guessed the correct number.\")\n",
    "        return True\n",
    "    elif guess < secret:\n",
    "        print(\"Your guess is too small.\")\n",
    "        return False\n",
    "    else:\n",
    "        print(\"Your guess is too large.\")\n",
    "        return False\n",
    "\n",
    "def guess_the_number():\n",
    "    # generate a secret number\n",
    "    secret = random.randint(1, 100)\n",
    "\n",
    "    # track the number of guesses\n",
    "    guess_count = 0\n",
    "\n",
    "    # run the game loop\n",
    "    game_over = False\n",
    "    while not game_over:\n",
    "        # take a guess from the player\n",
    "        guess = input(\"Enter your guess (1–100): \")\n",
    "\n",
    "        # checks if guess is valid\n",
    "        if validate_guess(guess):\n",
    "            guess = validate_guess(guess)\n",
    "        else:\n",
    "            continue\n",
    "\n",
    "        # increment the guess count\n",
    "        guess_count += 1\n",
    "\n",
    "        # check the guess and \n",
    "        # update game_over\n",
    "        game_over = check_answer(guess, secret)\n",
    "\n",
    "    # print final message\n",
    "    print(f\"You got it in {guess_count} guesses!\")\n",
    "\n"
   ]
  },
  {
   "cell_type": "code",
   "execution_count": 11,
   "id": "ccm3mb1F1Ft2",
   "metadata": {
    "id": "ccm3mb1F1Ft2"
   },
   "outputs": [
    {
     "name": "stdin",
     "output_type": "stream",
     "text": [
      "Enter your guess (1–100):  56\n"
     ]
    },
    {
     "name": "stdout",
     "output_type": "stream",
     "text": [
      "Your guess is too large.\n"
     ]
    },
    {
     "name": "stdin",
     "output_type": "stream",
     "text": [
      "Enter your guess (1–100):  46\n"
     ]
    },
    {
     "name": "stdout",
     "output_type": "stream",
     "text": [
      "Your guess is too small.\n"
     ]
    },
    {
     "name": "stdin",
     "output_type": "stream",
     "text": [
      "Enter your guess (1–100):  50\n"
     ]
    },
    {
     "name": "stdout",
     "output_type": "stream",
     "text": [
      "Your guess is too large.\n"
     ]
    },
    {
     "name": "stdin",
     "output_type": "stream",
     "text": [
      "Enter your guess (1–100):  48\n"
     ]
    },
    {
     "name": "stdout",
     "output_type": "stream",
     "text": [
      "Your guess is too small.\n"
     ]
    },
    {
     "name": "stdin",
     "output_type": "stream",
     "text": [
      "Enter your guess (1–100):  49\n"
     ]
    },
    {
     "name": "stdout",
     "output_type": "stream",
     "text": [
      "Congratulations! You guessed the correct number.\n",
      "You got it in 5 guesses!\n"
     ]
    }
   ],
   "source": [
    "# play your game!\n",
    "guess_the_number()"
   ]
  },
  {
   "cell_type": "code",
   "execution_count": null,
   "id": "319f0de6-97ab-4c82-a691-57e300bc6de9",
   "metadata": {},
   "outputs": [],
   "source": []
  }
 ],
 "metadata": {
  "colab": {
   "provenance": []
  },
  "kernelspec": {
   "display_name": "Python 3 (ipykernel)",
   "language": "python",
   "name": "python3"
  },
  "language_info": {
   "codemirror_mode": {
    "name": "ipython",
    "version": 3
   },
   "file_extension": ".py",
   "mimetype": "text/x-python",
   "name": "python",
   "nbconvert_exporter": "python",
   "pygments_lexer": "ipython3",
   "version": "3.10.6"
  }
 },
 "nbformat": 4,
 "nbformat_minor": 5
}
